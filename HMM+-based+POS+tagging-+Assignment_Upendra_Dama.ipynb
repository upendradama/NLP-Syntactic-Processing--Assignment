{
 "cells": [
  {
   "cell_type": "markdown",
   "metadata": {},
   "source": [
    "## Problem Statement:- \n",
    "\n",
    "    - Modify the Viterbi algorithm to solve the problem of unknown words using at least two techniques. "
   ]
  },
  {
   "cell_type": "markdown",
   "metadata": {},
   "source": [
    "### POS tagging using modified Viterbi"
   ]
  },
  {
   "cell_type": "markdown",
   "metadata": {},
   "source": [
    "### Data Preparation"
   ]
  },
  {
   "cell_type": "code",
   "execution_count": 1,
   "metadata": {},
   "outputs": [],
   "source": [
    "#Importing libraries\n",
    "import nltk, re, pprint\n",
    "import numpy as np\n",
    "import pandas as pd\n",
    "import requests\n",
    "import matplotlib.pyplot as plt\n",
    "import seaborn as sns\n",
    "import pprint, time\n",
    "import random\n",
    "from sklearn.model_selection import train_test_split\n",
    "from nltk.tokenize import word_tokenize"
   ]
  },
  {
   "cell_type": "code",
   "execution_count": 2,
   "metadata": {},
   "outputs": [
    {
     "name": "stderr",
     "output_type": "stream",
     "text": [
      "[nltk_data] Downloading package universal_tagset to\n",
      "[nltk_data]     /Users/thanush/nltk_data...\n",
      "[nltk_data]   Package universal_tagset is already up-to-date!\n"
     ]
    }
   ],
   "source": [
    "# reading the Treebank tagged sentences\n",
    "nltk.download('universal_tagset')\n",
    "nltk_data = list(nltk.corpus.treebank.tagged_sents(tagset='universal'))"
   ]
  },
  {
   "cell_type": "code",
   "execution_count": 3,
   "metadata": {},
   "outputs": [
    {
     "name": "stdout",
     "output_type": "stream",
     "text": [
      "[[('Pierre', 'NOUN'), ('Vinken', 'NOUN'), (',', '.'), ('61', 'NUM'), ('years', 'NOUN'), ('old', 'ADJ'), (',', '.'), ('will', 'VERB'), ('join', 'VERB'), ('the', 'DET'), ('board', 'NOUN'), ('as', 'ADP'), ('a', 'DET'), ('nonexecutive', 'ADJ'), ('director', 'NOUN'), ('Nov.', 'NOUN'), ('29', 'NUM'), ('.', '.')], [('Mr.', 'NOUN'), ('Vinken', 'NOUN'), ('is', 'VERB'), ('chairman', 'NOUN'), ('of', 'ADP'), ('Elsevier', 'NOUN'), ('N.V.', 'NOUN'), (',', '.'), ('the', 'DET'), ('Dutch', 'NOUN'), ('publishing', 'VERB'), ('group', 'NOUN'), ('.', '.')], [('Rudolph', 'NOUN'), ('Agnew', 'NOUN'), (',', '.'), ('55', 'NUM'), ('years', 'NOUN'), ('old', 'ADJ'), ('and', 'CONJ'), ('former', 'ADJ'), ('chairman', 'NOUN'), ('of', 'ADP'), ('Consolidated', 'NOUN'), ('Gold', 'NOUN'), ('Fields', 'NOUN'), ('PLC', 'NOUN'), (',', '.'), ('was', 'VERB'), ('named', 'VERB'), ('*-1', 'X'), ('a', 'DET'), ('nonexecutive', 'ADJ'), ('director', 'NOUN'), ('of', 'ADP'), ('this', 'DET'), ('British', 'ADJ'), ('industrial', 'ADJ'), ('conglomerate', 'NOUN'), ('.', '.')], [('A', 'DET'), ('form', 'NOUN'), ('of', 'ADP'), ('asbestos', 'NOUN'), ('once', 'ADV'), ('used', 'VERB'), ('*', 'X'), ('*', 'X'), ('to', 'PRT'), ('make', 'VERB'), ('Kent', 'NOUN'), ('cigarette', 'NOUN'), ('filters', 'NOUN'), ('has', 'VERB'), ('caused', 'VERB'), ('a', 'DET'), ('high', 'ADJ'), ('percentage', 'NOUN'), ('of', 'ADP'), ('cancer', 'NOUN'), ('deaths', 'NOUN'), ('among', 'ADP'), ('a', 'DET'), ('group', 'NOUN'), ('of', 'ADP'), ('workers', 'NOUN'), ('exposed', 'VERB'), ('*', 'X'), ('to', 'PRT'), ('it', 'PRON'), ('more', 'ADV'), ('than', 'ADP'), ('30', 'NUM'), ('years', 'NOUN'), ('ago', 'ADP'), (',', '.'), ('researchers', 'NOUN'), ('reported', 'VERB'), ('0', 'X'), ('*T*-1', 'X'), ('.', '.')], [('The', 'DET'), ('asbestos', 'NOUN'), ('fiber', 'NOUN'), (',', '.'), ('crocidolite', 'NOUN'), (',', '.'), ('is', 'VERB'), ('unusually', 'ADV'), ('resilient', 'ADJ'), ('once', 'ADP'), ('it', 'PRON'), ('enters', 'VERB'), ('the', 'DET'), ('lungs', 'NOUN'), (',', '.'), ('with', 'ADP'), ('even', 'ADV'), ('brief', 'ADJ'), ('exposures', 'NOUN'), ('to', 'PRT'), ('it', 'PRON'), ('causing', 'VERB'), ('symptoms', 'NOUN'), ('that', 'DET'), ('*T*-1', 'X'), ('show', 'VERB'), ('up', 'PRT'), ('decades', 'NOUN'), ('later', 'ADJ'), (',', '.'), ('researchers', 'NOUN'), ('said', 'VERB'), ('0', 'X'), ('*T*-2', 'X'), ('.', '.')], [('Lorillard', 'NOUN'), ('Inc.', 'NOUN'), (',', '.'), ('the', 'DET'), ('unit', 'NOUN'), ('of', 'ADP'), ('New', 'ADJ'), ('York-based', 'ADJ'), ('Loews', 'NOUN'), ('Corp.', 'NOUN'), ('that', 'DET'), ('*T*-2', 'X'), ('makes', 'VERB'), ('Kent', 'NOUN'), ('cigarettes', 'NOUN'), (',', '.'), ('stopped', 'VERB'), ('using', 'VERB'), ('crocidolite', 'NOUN'), ('in', 'ADP'), ('its', 'PRON'), ('Micronite', 'NOUN'), ('cigarette', 'NOUN'), ('filters', 'NOUN'), ('in', 'ADP'), ('1956', 'NUM'), ('.', '.')], [('Although', 'ADP'), ('preliminary', 'ADJ'), ('findings', 'NOUN'), ('were', 'VERB'), ('reported', 'VERB'), ('*-2', 'X'), ('more', 'ADV'), ('than', 'ADP'), ('a', 'DET'), ('year', 'NOUN'), ('ago', 'ADP'), (',', '.'), ('the', 'DET'), ('latest', 'ADJ'), ('results', 'NOUN'), ('appear', 'VERB'), ('in', 'ADP'), ('today', 'NOUN'), (\"'s\", 'PRT'), ('New', 'NOUN'), ('England', 'NOUN'), ('Journal', 'NOUN'), ('of', 'ADP'), ('Medicine', 'NOUN'), (',', '.'), ('a', 'DET'), ('forum', 'NOUN'), ('likely', 'ADJ'), ('*', 'X'), ('to', 'PRT'), ('bring', 'VERB'), ('new', 'ADJ'), ('attention', 'NOUN'), ('to', 'PRT'), ('the', 'DET'), ('problem', 'NOUN'), ('.', '.')], [('A', 'DET'), ('Lorillard', 'NOUN'), ('spokewoman', 'NOUN'), ('said', 'VERB'), (',', '.'), ('``', '.'), ('This', 'DET'), ('is', 'VERB'), ('an', 'DET'), ('old', 'ADJ'), ('story', 'NOUN'), ('.', '.')], [('We', 'PRON'), (\"'re\", 'VERB'), ('talking', 'VERB'), ('about', 'ADP'), ('years', 'NOUN'), ('ago', 'ADP'), ('before', 'ADP'), ('anyone', 'NOUN'), ('heard', 'VERB'), ('of', 'ADP'), ('asbestos', 'NOUN'), ('having', 'VERB'), ('any', 'DET'), ('questionable', 'ADJ'), ('properties', 'NOUN'), ('.', '.')], [('There', 'DET'), ('is', 'VERB'), ('no', 'DET'), ('asbestos', 'NOUN'), ('in', 'ADP'), ('our', 'PRON'), ('products', 'NOUN'), ('now', 'ADV'), ('.', '.'), (\"''\", '.')], [('Neither', 'DET'), ('Lorillard', 'NOUN'), ('nor', 'CONJ'), ('the', 'DET'), ('researchers', 'NOUN'), ('who', 'PRON'), ('*T*-3', 'X'), ('studied', 'VERB'), ('the', 'DET'), ('workers', 'NOUN'), ('were', 'VERB'), ('aware', 'ADJ'), ('of', 'ADP'), ('any', 'DET'), ('research', 'NOUN'), ('on', 'ADP'), ('smokers', 'NOUN'), ('of', 'ADP'), ('the', 'DET'), ('Kent', 'NOUN'), ('cigarettes', 'NOUN'), ('.', '.')], [('``', '.'), ('We', 'PRON'), ('have', 'VERB'), ('no', 'DET'), ('useful', 'ADJ'), ('information', 'NOUN'), ('on', 'ADP'), ('whether', 'ADP'), ('users', 'NOUN'), ('are', 'VERB'), ('at', 'ADP'), ('risk', 'NOUN'), (',', '.'), (\"''\", '.'), ('said', 'VERB'), ('*T*-1', 'X'), ('James', 'NOUN'), ('A.', 'NOUN'), ('Talcott', 'NOUN'), ('of', 'ADP'), ('Boston', 'NOUN'), (\"'s\", 'PRT'), ('Dana-Farber', 'NOUN'), ('Cancer', 'NOUN'), ('Institute', 'NOUN'), ('.', '.')], [('Dr.', 'NOUN'), ('Talcott', 'NOUN'), ('led', 'VERB'), ('a', 'DET'), ('team', 'NOUN'), ('of', 'ADP'), ('researchers', 'NOUN'), ('from', 'ADP'), ('the', 'DET'), ('National', 'NOUN'), ('Cancer', 'NOUN'), ('Institute', 'NOUN'), ('and', 'CONJ'), ('the', 'DET'), ('medical', 'ADJ'), ('schools', 'NOUN'), ('of', 'ADP'), ('Harvard', 'NOUN'), ('University', 'NOUN'), ('and', 'CONJ'), ('Boston', 'NOUN'), ('University', 'NOUN'), ('.', '.')], [('The', 'DET'), ('Lorillard', 'NOUN'), ('spokeswoman', 'NOUN'), ('said', 'VERB'), ('0', 'X'), ('asbestos', 'NOUN'), ('was', 'VERB'), ('used', 'VERB'), ('*-1', 'X'), ('in', 'ADP'), ('``', '.'), ('very', 'ADV'), ('modest', 'ADJ'), ('amounts', 'NOUN'), (\"''\", '.'), ('in', 'ADP'), ('*', 'X'), ('making', 'VERB'), ('paper', 'NOUN'), ('for', 'ADP'), ('the', 'DET'), ('filters', 'NOUN'), ('in', 'ADP'), ('the', 'DET'), ('early', 'ADJ'), ('1950s', 'NUM'), ('and', 'CONJ'), ('replaced', 'VERB'), ('*-1', 'X'), ('with', 'ADP'), ('a', 'DET'), ('different', 'ADJ'), ('type', 'NOUN'), ('of', 'ADP'), ('filter', 'NOUN'), ('in', 'ADP'), ('1956', 'NUM'), ('.', '.')], [('From', 'ADP'), ('1953', 'NUM'), ('to', 'PRT'), ('1955', 'NUM'), (',', '.'), ('9.8', 'NUM'), ('billion', 'NUM'), ('Kent', 'NOUN'), ('cigarettes', 'NOUN'), ('with', 'ADP'), ('the', 'DET'), ('filters', 'NOUN'), ('were', 'VERB'), ('sold', 'VERB'), ('*-3', 'X'), (',', '.'), ('the', 'DET'), ('company', 'NOUN'), ('said', 'VERB'), ('0', 'X'), ('*T*-1', 'X'), ('.', '.')], [('Among', 'ADP'), ('33', 'NUM'), ('men', 'NOUN'), ('who', 'PRON'), ('*T*-4', 'X'), ('worked', 'VERB'), ('closely', 'ADV'), ('with', 'ADP'), ('the', 'DET'), ('substance', 'NOUN'), (',', '.'), ('28', 'NUM'), ('*ICH*-1', 'X'), ('have', 'VERB'), ('died', 'VERB'), ('--', '.'), ('more', 'ADJ'), ('than', 'ADP'), ('three', 'NUM'), ('times', 'NOUN'), ('the', 'DET'), ('expected', 'VERB'), ('number', 'NOUN'), ('.', '.')], [('Four', 'NUM'), ('of', 'ADP'), ('the', 'DET'), ('five', 'NUM'), ('surviving', 'VERB'), ('workers', 'NOUN'), ('have', 'VERB'), ('asbestos-related', 'ADJ'), ('diseases', 'NOUN'), (',', '.'), ('including', 'VERB'), ('three', 'NUM'), ('with', 'ADP'), ('recently', 'ADV'), ('diagnosed', 'VERB'), ('cancer', 'NOUN'), ('.', '.')], [('The', 'DET'), ('total', 'NOUN'), ('of', 'ADP'), ('18', 'NUM'), ('deaths', 'NOUN'), ('from', 'ADP'), ('malignant', 'ADJ'), ('mesothelioma', 'NOUN'), (',', '.'), ('lung', 'NOUN'), ('cancer', 'NOUN'), ('and', 'CONJ'), ('asbestosis', 'NOUN'), ('was', 'VERB'), ('far', 'ADV'), ('higher', 'ADJ'), ('than', 'ADP'), ('*', 'X'), ('expected', 'VERB'), ('*?*', 'X'), (',', '.'), ('the', 'DET'), ('researchers', 'NOUN'), ('said', 'VERB'), ('0', 'X'), ('*T*-1', 'X'), ('.', '.')], [('``', '.'), ('The', 'DET'), ('morbidity', 'NOUN'), ('rate', 'NOUN'), ('is', 'VERB'), ('a', 'DET'), ('striking', 'ADJ'), ('finding', 'NOUN'), ('among', 'ADP'), ('those', 'DET'), ('of', 'ADP'), ('us', 'PRON'), ('who', 'PRON'), ('*T*-5', 'X'), ('study', 'VERB'), ('asbestos-related', 'ADJ'), ('diseases', 'NOUN'), (',', '.'), (\"''\", '.'), ('said', 'VERB'), ('*T*-1', 'X'), ('Dr.', 'NOUN'), ('Talcott', 'NOUN'), ('.', '.')], [('The', 'DET'), ('percentage', 'NOUN'), ('of', 'ADP'), ('lung', 'NOUN'), ('cancer', 'NOUN'), ('deaths', 'NOUN'), ('among', 'ADP'), ('the', 'DET'), ('workers', 'NOUN'), ('at', 'ADP'), ('the', 'DET'), ('West', 'NOUN'), ('Groton', 'NOUN'), (',', '.'), ('Mass.', 'NOUN'), (',', '.'), ('paper', 'NOUN'), ('factory', 'NOUN'), ('appears', 'VERB'), ('*-1', 'X'), ('to', 'PRT'), ('be', 'VERB'), ('the', 'DET'), ('highest', 'ADJ'), ('for', 'ADP'), ('any', 'DET'), ('asbestos', 'NOUN'), ('workers', 'NOUN'), ('studied', 'VERB'), ('*', 'X'), ('in', 'ADP'), ('Western', 'ADJ'), ('industrialized', 'VERB'), ('countries', 'NOUN'), (',', '.'), ('he', 'PRON'), ('said', 'VERB'), ('0', 'X'), ('*T*-2', 'X'), ('.', '.')], [('The', 'DET'), ('plant', 'NOUN'), (',', '.'), ('which', 'DET'), ('*T*-1', 'X'), ('is', 'VERB'), ('owned', 'VERB'), ('*-4', 'X'), ('by', 'ADP'), ('Hollingsworth', 'NOUN'), ('&', 'CONJ'), ('Vose', 'NOUN'), ('Co.', 'NOUN'), (',', '.'), ('was', 'VERB'), ('under', 'ADP'), ('contract', 'NOUN'), ('*ICH*-2', 'X'), ('with', 'ADP'), ('Lorillard', 'NOUN'), ('*', 'X'), ('to', 'PRT'), ('make', 'VERB'), ('the', 'DET'), ('cigarette', 'NOUN'), ('filters', 'NOUN'), ('.', '.')], [('The', 'DET'), ('finding', 'NOUN'), ('probably', 'ADV'), ('will', 'VERB'), ('support', 'VERB'), ('those', 'DET'), ('who', 'PRON'), ('*T*-6', 'X'), ('argue', 'VERB'), ('that', 'ADP'), ('the', 'DET'), ('U.S.', 'NOUN'), ('should', 'VERB'), ('regulate', 'VERB'), ('the', 'DET'), ('class', 'NOUN'), ('of', 'ADP'), ('asbestos', 'NOUN'), ('including', 'VERB'), ('crocidolite', 'NOUN'), ('more', 'ADV'), ('stringently', 'ADV'), ('than', 'ADP'), ('the', 'DET'), ('common', 'ADJ'), ('kind', 'NOUN'), ('of', 'ADP'), ('asbestos', 'NOUN'), (',', '.'), ('chrysotile', 'NOUN'), (',', '.'), ('found', 'VERB'), ('*', 'X'), ('in', 'ADP'), ('most', 'ADJ'), ('schools', 'NOUN'), ('and', 'CONJ'), ('other', 'ADJ'), ('buildings', 'NOUN'), (',', '.'), ('Dr.', 'NOUN'), ('Talcott', 'NOUN'), ('said', 'VERB'), ('0', 'X'), ('*T*-1', 'X'), ('.', '.')], [('The', 'DET'), ('U.S.', 'NOUN'), ('is', 'VERB'), ('one', 'NUM'), ('of', 'ADP'), ('the', 'DET'), ('few', 'ADJ'), ('industrialized', 'VERB'), ('nations', 'NOUN'), ('that', 'DET'), ('*T*-7', 'X'), ('does', 'VERB'), (\"n't\", 'ADV'), ('have', 'VERB'), ('a', 'DET'), ('higher', 'ADJ'), ('standard', 'NOUN'), ('of', 'ADP'), ('regulation', 'NOUN'), ('for', 'ADP'), ('the', 'DET'), ('smooth', 'ADJ'), (',', '.'), ('needle-like', 'ADJ'), ('fibers', 'NOUN'), ('such', 'ADJ'), ('as', 'ADP'), ('crocidolite', 'NOUN'), ('that', 'DET'), ('*T*-1', 'X'), ('are', 'VERB'), ('classified', 'VERB'), ('*-5', 'X'), ('as', 'ADP'), ('amphobiles', 'NOUN'), (',', '.'), ('according', 'VERB'), ('to', 'PRT'), ('Brooke', 'NOUN'), ('T.', 'NOUN'), ('Mossman', 'NOUN'), (',', '.'), ('a', 'DET'), ('professor', 'NOUN'), ('of', 'ADP'), ('pathlogy', 'NOUN'), ('at', 'ADP'), ('the', 'DET'), ('University', 'NOUN'), ('of', 'ADP'), ('Vermont', 'NOUN'), ('College', 'NOUN'), ('of', 'ADP'), ('Medicine', 'NOUN'), ('.', '.')], [('More', 'ADV'), ('common', 'ADJ'), ('chrysotile', 'NOUN'), ('fibers', 'NOUN'), ('are', 'VERB'), ('curly', 'ADJ'), ('and', 'CONJ'), ('are', 'VERB'), ('more', 'ADV'), ('easily', 'ADV'), ('rejected', 'VERB'), ('*-1', 'X'), ('by', 'ADP'), ('the', 'DET'), ('body', 'NOUN'), (',', '.'), ('Dr.', 'NOUN'), ('Mossman', 'NOUN'), ('explained', 'VERB'), ('0', 'X'), ('*T*-2', 'X'), ('.', '.')], [('In', 'ADP'), ('July', 'NOUN'), (',', '.'), ('the', 'DET'), ('Environmental', 'NOUN'), ('Protection', 'NOUN'), ('Agency', 'NOUN'), ('imposed', 'VERB'), ('a', 'DET'), ('gradual', 'ADJ'), ('ban', 'NOUN'), ('on', 'ADP'), ('virtually', 'ADV'), ('all', 'DET'), ('uses', 'NOUN'), ('of', 'ADP'), ('asbestos', 'NOUN'), ('.', '.')], [('By', 'ADP'), ('1997', 'NUM'), (',', '.'), ('almost', 'ADV'), ('all', 'DET'), ('remaining', 'VERB'), ('uses', 'NOUN'), ('of', 'ADP'), ('cancer-causing', 'ADJ'), ('asbestos', 'NOUN'), ('will', 'VERB'), ('be', 'VERB'), ('outlawed', 'VERB'), ('*-6', 'X'), ('.', '.')], [('About', 'ADP'), ('160', 'NUM'), ('workers', 'NOUN'), ('at', 'ADP'), ('a', 'DET'), ('factory', 'NOUN'), ('that', 'DET'), ('*T*-8', 'X'), ('made', 'VERB'), ('paper', 'NOUN'), ('for', 'ADP'), ('the', 'DET'), ('Kent', 'NOUN'), ('filters', 'NOUN'), ('were', 'VERB'), ('exposed', 'VERB'), ('*-7', 'X'), ('to', 'PRT'), ('asbestos', 'NOUN'), ('in', 'ADP'), ('the', 'DET'), ('1950s', 'NUM'), ('.', '.')], [('Areas', 'NOUN'), ('of', 'ADP'), ('the', 'DET'), ('factory', 'NOUN'), ('*ICH*-2', 'X'), ('were', 'VERB'), ('particularly', 'ADV'), ('dusty', 'ADJ'), ('where', 'ADV'), ('the', 'DET'), ('crocidolite', 'NOUN'), ('was', 'VERB'), ('used', 'VERB'), ('*-8', 'X'), ('*T*-1', 'X'), ('.', '.')], [('Workers', 'NOUN'), ('dumped', 'VERB'), ('large', 'ADJ'), ('burlap', 'NOUN'), ('sacks', 'NOUN'), ('of', 'ADP'), ('the', 'DET'), ('imported', 'VERB'), ('material', 'NOUN'), ('into', 'ADP'), ('a', 'DET'), ('huge', 'ADJ'), ('bin', 'NOUN'), (',', '.'), ('poured', 'VERB'), ('in', 'PRT'), ('cotton', 'NOUN'), ('and', 'CONJ'), ('acetate', 'NOUN'), ('fibers', 'NOUN'), ('and', 'CONJ'), ('mechanically', 'ADV'), ('mixed', 'VERB'), ('the', 'DET'), ('dry', 'ADJ'), ('fibers', 'NOUN'), ('in', 'ADP'), ('a', 'DET'), ('process', 'NOUN'), ('used', 'VERB'), ('*', 'X'), ('*', 'X'), ('to', 'PRT'), ('make', 'VERB'), ('filters', 'NOUN'), ('.', '.')], [('Workers', 'NOUN'), ('described', 'VERB'), ('``', '.'), ('clouds', 'NOUN'), ('of', 'ADP'), ('blue', 'ADJ'), ('dust', 'NOUN'), (\"''\", '.'), ('that', 'DET'), ('*T*-1', 'X'), ('hung', 'VERB'), ('over', 'ADP'), ('parts', 'NOUN'), ('of', 'ADP'), ('the', 'DET'), ('factory', 'NOUN'), (',', '.'), ('even', 'ADV'), ('though', 'ADP'), ('exhaust', 'NOUN'), ('fans', 'NOUN'), ('ventilated', 'VERB'), ('the', 'DET'), ('area', 'NOUN'), ('.', '.')], [('``', '.'), ('There', 'DET'), (\"'s\", 'VERB'), ('no', 'DET'), ('question', 'NOUN'), ('that', 'ADP'), ('some', 'DET'), ('of', 'ADP'), ('those', 'DET'), ('workers', 'NOUN'), ('and', 'CONJ'), ('managers', 'NOUN'), ('contracted', 'VERB'), ('asbestos-related', 'ADJ'), ('diseases', 'NOUN'), (',', '.'), (\"''\", '.'), ('said', 'VERB'), ('*T*-1', 'X'), ('Darrell', 'NOUN'), ('Phillips', 'NOUN'), (',', '.'), ('vice', 'NOUN'), ('president', 'NOUN'), ('of', 'ADP'), ('human', 'ADJ'), ('resources', 'NOUN'), ('for', 'ADP'), ('Hollingsworth', 'NOUN'), ('&', 'CONJ'), ('Vose', 'NOUN'), ('.', '.')], [('``', '.'), ('But', 'CONJ'), ('you', 'PRON'), ('have', 'VERB'), ('*-1', 'X'), ('to', 'PRT'), ('recognize', 'VERB'), ('that', 'ADP'), ('these', 'DET'), ('events', 'NOUN'), ('took', 'VERB'), ('place', 'NOUN'), ('35', 'NUM'), ('years', 'NOUN'), ('ago', 'ADP'), ('.', '.')], [('It', 'PRON'), ('has', 'VERB'), ('no', 'DET'), ('bearing', 'NOUN'), ('on', 'ADP'), ('our', 'PRON'), ('work', 'NOUN'), ('force', 'NOUN'), ('today', 'NOUN'), ('.', '.')], [('Yields', 'NOUN'), ('on', 'ADP'), ('money-market', 'ADJ'), ('mutual', 'ADJ'), ('funds', 'NOUN'), ('continued', 'VERB'), ('*-1', 'X'), ('to', 'PRT'), ('slide', 'VERB'), (',', '.'), ('amid', 'ADP'), ('signs', 'NOUN'), ('that', 'ADP'), ('portfolio', 'NOUN'), ('managers', 'NOUN'), ('expect', 'VERB'), ('further', 'ADJ'), ('declines', 'NOUN'), ('in', 'ADP'), ('interest', 'NOUN'), ('rates', 'NOUN'), ('.', '.')], [('The', 'DET'), ('average', 'ADJ'), ('seven-day', 'ADJ'), ('compound', 'NOUN'), ('yield', 'NOUN'), ('of', 'ADP'), ('the', 'DET'), ('400', 'NUM'), ('taxable', 'ADJ'), ('funds', 'NOUN'), ('tracked', 'VERB'), ('*', 'X'), ('by', 'ADP'), ('IBC', 'NOUN'), (\"'s\", 'PRT'), ('Money', 'NOUN'), ('Fund', 'NOUN'), ('Report', 'NOUN'), ('eased', 'VERB'), ('a', 'DET'), ('fraction', 'NOUN'), ('of', 'ADP'), ('a', 'DET'), ('percentage', 'NOUN'), ('point', 'NOUN'), ('to', 'PRT'), ('8.45', 'NUM'), ('%', 'NOUN'), ('from', 'ADP'), ('8.47', 'NUM'), ('%', 'NOUN'), ('for', 'ADP'), ('the', 'DET'), ('week', 'NOUN'), ('ended', 'VERB'), ('Tuesday', 'NOUN'), ('.', '.')], [('Compound', 'NOUN'), ('yields', 'NOUN'), ('assume', 'VERB'), ('reinvestment', 'NOUN'), ('of', 'ADP'), ('dividends', 'NOUN'), ('and', 'CONJ'), ('that', 'ADP'), ('the', 'DET'), ('current', 'ADJ'), ('yield', 'NOUN'), ('continues', 'VERB'), ('for', 'ADP'), ('a', 'DET'), ('year', 'NOUN'), ('.', '.')], [('Average', 'ADJ'), ('maturity', 'NOUN'), ('of', 'ADP'), ('the', 'DET'), ('funds', 'NOUN'), (\"'\", 'PRT'), ('investments', 'NOUN'), ('lengthened', 'VERB'), ('by', 'ADP'), ('a', 'DET'), ('day', 'NOUN'), ('to', 'PRT'), ('41', 'NUM'), ('days', 'NOUN'), (',', '.'), ('the', 'DET'), ('longest', 'ADJ'), ('since', 'ADP'), ('early', 'ADJ'), ('August', 'NOUN'), (',', '.'), ('according', 'VERB'), ('to', 'PRT'), ('Donoghue', 'NOUN'), (\"'s\", 'PRT'), ('.', '.')], [('Longer', 'ADJ'), ('maturities', 'NOUN'), ('are', 'VERB'), ('thought', 'VERB'), ('*-1', 'X'), ('to', 'PRT'), ('indicate', 'VERB'), ('declining', 'VERB'), ('interest', 'NOUN'), ('rates', 'NOUN'), ('because', 'ADP'), ('they', 'PRON'), ('permit', 'VERB'), ('portfolio', 'NOUN'), ('managers', 'NOUN'), ('to', 'PRT'), ('retain', 'VERB'), ('relatively', 'ADV'), ('higher', 'ADJ'), ('rates', 'NOUN'), ('for', 'ADP'), ('a', 'DET'), ('longer', 'ADJ'), ('period', 'NOUN'), ('.', '.')], [('Shorter', 'ADJ'), ('maturities', 'NOUN'), ('are', 'VERB'), ('considered', 'VERB'), ('*-9', 'X'), ('a', 'DET'), ('sign', 'NOUN'), ('of', 'ADP'), ('rising', 'VERB'), ('rates', 'NOUN'), ('because', 'ADP'), ('portfolio', 'NOUN'), ('managers', 'NOUN'), ('can', 'VERB'), ('capture', 'VERB'), ('higher', 'ADJ'), ('rates', 'NOUN'), ('sooner', 'ADV'), ('.', '.')], [('The', 'DET'), ('average', 'ADJ'), ('maturity', 'NOUN'), ('for', 'ADP'), ('funds', 'NOUN'), ('open', 'ADJ'), ('only', 'ADV'), ('to', 'PRT'), ('institutions', 'NOUN'), (',', '.'), ('considered', 'VERB'), ('by', 'ADP'), ('some', 'DET'), ('*', 'X'), ('to', 'PRT'), ('be', 'VERB'), ('a', 'DET'), ('stronger', 'ADJ'), ('indicator', 'NOUN'), ('because', 'ADP'), ('those', 'DET'), ('managers', 'NOUN'), ('watch', 'VERB'), ('the', 'DET'), ('market', 'NOUN'), ('closely', 'ADV'), (',', '.'), ('reached', 'VERB'), ('a', 'DET'), ('high', 'ADJ'), ('point', 'NOUN'), ('for', 'ADP'), ('the', 'DET'), ('year', 'NOUN'), ('--', '.'), ('33', 'NUM'), ('days', 'NOUN'), ('.', '.')]]\n"
     ]
    }
   ],
   "source": [
    "# first few tagged sentences\n",
    "print(nltk_data[:40])"
   ]
  },
  {
   "cell_type": "code",
   "execution_count": 4,
   "metadata": {},
   "outputs": [
    {
     "name": "stdout",
     "output_type": "stream",
     "text": [
      "Training Set Length - 3718\n",
      "Testing Set Length - 196\n",
      "----------------------------------------------------------------------------------------------------\n",
      "Training Data -\n",
      "\n",
      "[[('Temple', 'NOUN'), ('also', 'ADV'), ('said', 'VERB'), ('0', 'X'), ('Sea', 'NOUN'), ('Containers', 'NOUN'), (\"'\", 'PRT'), ('plan', 'NOUN'), ('raises', 'VERB'), ('``', '.'), ('numerous', 'ADJ'), ('legal', 'ADJ'), (',', '.'), ('regulatory', 'ADJ'), (',', '.'), ('financial', 'ADJ'), ('and', 'CONJ'), ('fairness', 'NOUN'), ('issues', 'NOUN'), (',', '.'), (\"''\", '.'), ('but', 'CONJ'), ('did', 'VERB'), (\"n't\", 'ADV'), ('elaborate', 'VERB'), ('.', '.')], [('The', 'DET'), ('issue', 'NOUN'), ('is', 'VERB'), ('further', 'ADV'), ('complicated', 'ADJ'), ('*-1', 'X'), ('by', 'ADP'), ('uncertainty', 'NOUN'), ('over', 'ADP'), ('the', 'DET'), ('future', 'NOUN'), ('of', 'ADP'), ('the', 'DET'), ('U.S.', 'NOUN'), (\"'s\", 'PRT'), ('leases', 'NOUN'), ('on', 'ADP'), ('military', 'ADJ'), ('bases', 'NOUN'), ('in', 'ADP'), ('the', 'DET'), ('Philippines', 'NOUN'), ('and', 'CONJ'), ('by', 'ADP'), ('a', 'DET'), ('possible', 'ADJ'), ('U.S.', 'NOUN'), ('troop', 'NOUN'), ('reduction', 'NOUN'), ('in', 'ADP'), ('South', 'NOUN'), ('Korea', 'NOUN'), ('.', '.')], [('Separately', 'NOUN'), (',', '.'), ('John', 'NOUN'), ('Phelan', 'NOUN'), ('told', 'VERB'), ('a', 'DET'), ('closed', 'VERB'), ('House', 'NOUN'), ('subcommittee', 'NOUN'), ('meeting', 'NOUN'), ('in', 'ADP'), ('Washington', 'NOUN'), ('that', 'ADP'), ('he', 'PRON'), ('would', 'VERB'), ('support', 'VERB'), ('Securities', 'NOUN'), ('and', 'CONJ'), ('Exchange', 'NOUN'), ('Commission', 'NOUN'), ('halts', 'NOUN'), ('of', 'ADP'), ('program', 'NOUN'), ('trading', 'NOUN'), ('during', 'ADP'), ('market', 'NOUN'), ('emergencies', 'NOUN'), ('.', '.')], [('The', 'DET'), ('teacher', 'NOUN'), ('in', 'ADP'), ('question', 'NOUN'), ('was', 'VERB'), ('Nancy', 'NOUN'), ('Yeargin', 'NOUN'), ('--', '.'), ('considered', 'VERB'), ('by', 'ADP'), ('many', 'ADJ'), ('students', 'NOUN'), ('and', 'CONJ'), ('parents', 'NOUN'), ('*', 'X'), ('to', 'PRT'), ('be', 'VERB'), ('one', 'NUM'), ('of', 'ADP'), ('the', 'DET'), ('best', 'ADJ'), ('at', 'ADP'), ('the', 'DET'), ('school', 'NOUN'), ('.', '.')], [('A', 'DET'), ('50-state', 'ADJ'), ('study', 'NOUN'), ('released', 'VERB'), ('*', 'X'), ('in', 'ADP'), ('September', 'NOUN'), ('by', 'ADP'), ('Friends', 'NOUN'), ('for', 'ADP'), ('Education', 'NOUN'), (',', '.'), ('an', 'DET'), ('Albuquerque', 'NOUN'), (',', '.'), ('N.M.', 'NOUN'), (',', '.'), ('school-research', 'ADJ'), ('group', 'NOUN'), (',', '.'), ('concluded', 'VERB'), ('that', 'ADP'), ('``', '.'), ('outright', 'ADJ'), ('cheating', 'NOUN'), ('by', 'ADP'), ('American', 'ADJ'), ('educators', 'NOUN'), (\"''\", '.'), ('is', 'VERB'), ('``', '.'), ('common', 'ADJ'), ('.', '.'), (\"''\", '.')], [('One', 'NUM'), ('bright', 'ADJ'), ('sign', 'NOUN'), ('is', 'VERB'), ('that', 'ADP'), ('a', 'DET'), ('growing', 'VERB'), ('number', 'NOUN'), ('of', 'ADP'), ('women', 'NOUN'), ('have', 'VERB'), ('entered', 'VERB'), ('the', 'DET'), ('once', 'ADV'), ('male-dominated', 'ADJ'), ('field', 'NOUN'), (';', '.'), ('more', 'ADJ'), ('than', 'ADP'), ('a', 'DET'), ('third', 'ADJ'), ('of', 'ADP'), ('the', 'DET'), ('ringers', 'NOUN'), ('today', 'NOUN'), ('are', 'VERB'), ('women', 'NOUN'), ('.', '.')], [('Of', 'ADP'), ('course', 'NOUN'), (',', '.'), ('if', 'ADP'), ('the', 'DET'), ('film', 'NOUN'), ('contained', 'VERB'), ('dialogue', 'NOUN'), (',', '.'), ('Mr.', 'NOUN'), ('Lane', 'NOUN'), (\"'s\", 'PRT'), ('Artist', 'NOUN'), ('would', 'VERB'), ('be', 'VERB'), ('called', 'VERB'), ('*-71', 'X'), ('a', 'DET'), ('homeless', 'ADJ'), ('person', 'NOUN'), ('.', '.')], [('The', 'DET'), ('key', 'ADJ'), ('U.S.', 'NOUN'), ('and', 'CONJ'), ('foreign', 'ADJ'), ('annual', 'ADJ'), ('interest', 'NOUN'), ('rates', 'NOUN'), ('below', 'ADP'), ('are', 'VERB'), ('a', 'DET'), ('guide', 'NOUN'), ('to', 'PRT'), ('general', 'ADJ'), ('levels', 'NOUN'), ('but', 'CONJ'), ('do', 'VERB'), (\"n't\", 'ADV'), ('always', 'ADV'), ('represent', 'VERB'), ('actual', 'ADJ'), ('transactions', 'NOUN'), ('.', '.')], [('``', '.'), ('It', 'PRON'), (\"'s\", 'VERB'), ('the', 'DET'), ('classic', 'ADJ'), ('problem', 'NOUN'), ('of', 'ADP'), ('the', 'DET'), ('small', 'ADJ'), ('businessman', 'NOUN'), (',', '.'), (\"''\", '.'), ('says', 'VERB'), ('*T*-1', 'X'), ('Malcolm', 'NOUN'), ('Davies', 'NOUN'), (',', '.'), ('managing', 'VERB'), ('director', 'NOUN'), ('of', 'ADP'), ('Trading', 'NOUN'), ('Alliance', 'NOUN'), ('Corp.', 'NOUN'), ('of', 'ADP'), ('New', 'NOUN'), ('York', 'NOUN'), ('.', '.')], [('But', 'CONJ'), ('with', 'ADP'), ('the', 'DET'), ('end', 'NOUN'), ('of', 'ADP'), ('the', 'DET'), ('year', 'NOUN'), ('in', 'ADP'), ('sight', 'NOUN'), (',', '.'), ('money', 'NOUN'), ('managers', 'NOUN'), ('are', 'VERB'), ('eager', 'ADJ'), ('*-1', 'X'), ('to', 'PRT'), ('take', 'VERB'), ('profits', 'NOUN'), ('and', 'CONJ'), ('cut', 'VERB'), ('their', 'PRON'), ('risks', 'NOUN'), ('of', 'ADP'), ('*-2', 'X'), ('losing', 'VERB'), ('what', 'PRON'), ('for', 'ADP'), ('many', 'ADJ'), ('*T*-178', 'X'), ('have', 'VERB'), ('been', 'VERB'), ('exceptionally', 'ADV'), ('good', 'ADJ'), ('returns', 'NOUN'), ('in', 'ADP')]]\n"
     ]
    }
   ],
   "source": [
    "# Split data into training and validation set in the ratio 95:5\n",
    "random.seed(1234)\n",
    "train_set, test_set = train_test_split(nltk_data, train_size=0.95, test_size=0.05)\n",
    "\n",
    "print(\"Training Set Length -\", len(train_set))\n",
    "print(\"Testing Set Length -\", len(test_set))\n",
    "print(\"-\" * 100)\n",
    "print(\"Training Data -\\n\")\n",
    "print(train_set[:10])"
   ]
  },
  {
   "cell_type": "code",
   "execution_count": 5,
   "metadata": {},
   "outputs": [
    {
     "name": "stdout",
     "output_type": "stream",
     "text": [
      "95851\n",
      "4825\n"
     ]
    }
   ],
   "source": [
    "# Getting list of tagged words\n",
    "train_tagged_words = [tup for sent in train_set for tup in sent]\n",
    "print(len(train_tagged_words))\n",
    "\n",
    "test_tagged_words = [tup for sent in test_set for tup in sent]\n",
    "print(len(test_tagged_words))"
   ]
  },
  {
   "cell_type": "code",
   "execution_count": 6,
   "metadata": {},
   "outputs": [
    {
     "data": {
      "text/plain": [
       "[('Temple', 'NOUN'),\n",
       " ('also', 'ADV'),\n",
       " ('said', 'VERB'),\n",
       " ('0', 'X'),\n",
       " ('Sea', 'NOUN'),\n",
       " ('Containers', 'NOUN'),\n",
       " (\"'\", 'PRT'),\n",
       " ('plan', 'NOUN'),\n",
       " ('raises', 'VERB'),\n",
       " ('``', '.')]"
      ]
     },
     "execution_count": 6,
     "metadata": {},
     "output_type": "execute_result"
    }
   ],
   "source": [
    "# Let's have a look at the tagged words in the training set\n",
    "train_tagged_words[:10]"
   ]
  },
  {
   "cell_type": "code",
   "execution_count": 7,
   "metadata": {},
   "outputs": [
    {
     "data": {
      "text/plain": [
       "['Temple',\n",
       " 'also',\n",
       " 'said',\n",
       " '0',\n",
       " 'Sea',\n",
       " 'Containers',\n",
       " \"'\",\n",
       " 'plan',\n",
       " 'raises',\n",
       " '``']"
      ]
     },
     "execution_count": 7,
     "metadata": {},
     "output_type": "execute_result"
    }
   ],
   "source": [
    "# Tokens in the train set - train_tagged_words\n",
    "train_tagged_tokens = [tag[0] for tag in train_tagged_words]\n",
    "train_tagged_tokens[:10]"
   ]
  },
  {
   "cell_type": "code",
   "execution_count": 8,
   "metadata": {},
   "outputs": [
    {
     "data": {
      "text/plain": [
       "['NOUN', 'ADV', 'VERB', 'X', 'NOUN', 'NOUN', 'PRT', 'NOUN', 'VERB', '.']"
      ]
     },
     "execution_count": 8,
     "metadata": {},
     "output_type": "execute_result"
    }
   ],
   "source": [
    "# POS tags for the tokens in the train set - train_tagged_words\n",
    "train_tagged_pos_tokens = [tag[1] for tag in train_tagged_words]\n",
    "train_tagged_pos_tokens[:10]"
   ]
  },
  {
   "cell_type": "code",
   "execution_count": 9,
   "metadata": {},
   "outputs": [
    {
     "name": "stdout",
     "output_type": "stream",
     "text": [
      "12104\n"
     ]
    }
   ],
   "source": [
    "# Building the train vocabulary to a set\n",
    "training_vocabulary_set = set(train_tagged_tokens)\n",
    "print(len(training_vocabulary_set))"
   ]
  },
  {
   "cell_type": "code",
   "execution_count": 10,
   "metadata": {},
   "outputs": [
    {
     "name": "stdout",
     "output_type": "stream",
     "text": [
      "12\n"
     ]
    }
   ],
   "source": [
    "# Building the POS tags to a set\n",
    "training_pos_tag_set = set(train_tagged_pos_tokens)\n",
    "print(len(training_pos_tag_set))"
   ]
  },
  {
   "cell_type": "markdown",
   "metadata": {},
   "source": [
    "### Build the vanilla Viterbi based POS tagger"
   ]
  },
  {
   "cell_type": "markdown",
   "metadata": {},
   "source": [
    "We'll use the HMM algorithm to tag the words. Given a sequence of words to be tagged, the task is to assign the most probable tag to the word. \n",
    "\n",
    "In other words, to every word w, assign the tag t that maximises the likelihood P(t/w). Since P(t/w) = P(w/t). P(t) / P(w), after ignoring P(w), we have to compute P(w/t) and P(t).\n",
    "\n",
    "The term P(t) is the probability of tag t, and in a tagging task, we assume that a tag will depend only on the previous tag. In other words, the probability of a tag being NN will depend only on the previous tag t(n-1). \n",
    "\n",
    "Given the penn treebank tagged dataset, we can compute the two terms P(w/t) and P(t) and store them in two large matrices. The matrix of P(w/t) will be sparse, since each word will not be seen with most tags ever, and those terms will thus be zero. "
   ]
  },
  {
   "cell_type": "markdown",
   "metadata": {},
   "source": [
    "####  Let's compute emission probabilties for a given word"
   ]
  },
  {
   "cell_type": "code",
   "execution_count": 11,
   "metadata": {},
   "outputs": [],
   "source": [
    "def word_given_tag(word, tag, train_bag = train_tagged_words):\n",
    "    tag_list = [pair for pair in train_bag if pair[1]==tag]\n",
    "    count_tag = len(tag_list)\n",
    "    w_given_tag_list = [pair[0] for pair in tag_list if pair[0]==word]\n",
    "    count_w_given_tag = len(w_given_tag_list)\n",
    "    \n",
    "    return (count_w_given_tag, count_tag)"
   ]
  },
  {
   "cell_type": "markdown",
   "metadata": {},
   "source": [
    "#### Let's compute transition probabilties for a given word"
   ]
  },
  {
   "cell_type": "code",
   "execution_count": 12,
   "metadata": {},
   "outputs": [],
   "source": [
    "# Compute tag given tag: tag2(t2) given tag1 (t1), i.e. Transition Probability\n",
    "\n",
    "def t2_given_t1(t2, t1, train_bag = train_tagged_words):\n",
    "    tags = [pair[1] for pair in train_bag]\n",
    "    count_t1 = len([t for t in tags if t==t1])\n",
    "    count_t2_t1 = 0\n",
    "    for index in range(len(tags)-1):\n",
    "        if tags[index]==t1 and tags[index+1] == t2:\n",
    "            count_t2_t1 += 1\n",
    "    return (count_t2_t1, count_t1)"
   ]
  },
  {
   "cell_type": "code",
   "execution_count": 13,
   "metadata": {},
   "outputs": [],
   "source": [
    "# creating t x t transition matrix of tags\n",
    "# each column is t2, each row is t1\n",
    "# thus M(i, j) represents P(tj given ti)\n",
    "\n",
    "tags_matrix = np.zeros((len(training_pos_tag_set), len(training_pos_tag_set)), dtype='float32')\n",
    "for i, t1 in enumerate(list(training_pos_tag_set)):\n",
    "    for j, t2 in enumerate(list(training_pos_tag_set)): \n",
    "        tags_matrix[i, j] = t2_given_t1(t2, t1)[0]/t2_given_t1(t2, t1)[1]"
   ]
  },
  {
   "cell_type": "code",
   "execution_count": 14,
   "metadata": {},
   "outputs": [
    {
     "data": {
      "text/html": [
       "<div>\n",
       "<style scoped>\n",
       "    .dataframe tbody tr th:only-of-type {\n",
       "        vertical-align: middle;\n",
       "    }\n",
       "\n",
       "    .dataframe tbody tr th {\n",
       "        vertical-align: top;\n",
       "    }\n",
       "\n",
       "    .dataframe thead th {\n",
       "        text-align: right;\n",
       "    }\n",
       "</style>\n",
       "<table border=\"1\" class=\"dataframe\">\n",
       "  <thead>\n",
       "    <tr style=\"text-align: right;\">\n",
       "      <th></th>\n",
       "      <th>X</th>\n",
       "      <th>PRON</th>\n",
       "      <th>.</th>\n",
       "      <th>ADV</th>\n",
       "      <th>NOUN</th>\n",
       "      <th>CONJ</th>\n",
       "      <th>ADP</th>\n",
       "      <th>PRT</th>\n",
       "      <th>NUM</th>\n",
       "      <th>ADJ</th>\n",
       "      <th>VERB</th>\n",
       "      <th>DET</th>\n",
       "    </tr>\n",
       "  </thead>\n",
       "  <tbody>\n",
       "    <tr>\n",
       "      <td>X</td>\n",
       "      <td>0.074286</td>\n",
       "      <td>0.055238</td>\n",
       "      <td>0.163651</td>\n",
       "      <td>0.025873</td>\n",
       "      <td>0.062222</td>\n",
       "      <td>0.010476</td>\n",
       "      <td>0.143968</td>\n",
       "      <td>0.184762</td>\n",
       "      <td>0.002857</td>\n",
       "      <td>0.017460</td>\n",
       "      <td>0.204921</td>\n",
       "      <td>0.054286</td>\n",
       "    </tr>\n",
       "    <tr>\n",
       "      <td>PRON</td>\n",
       "      <td>0.093282</td>\n",
       "      <td>0.006526</td>\n",
       "      <td>0.039155</td>\n",
       "      <td>0.035317</td>\n",
       "      <td>0.209597</td>\n",
       "      <td>0.005374</td>\n",
       "      <td>0.023033</td>\n",
       "      <td>0.012668</td>\n",
       "      <td>0.007294</td>\n",
       "      <td>0.072169</td>\n",
       "      <td>0.485988</td>\n",
       "      <td>0.009597</td>\n",
       "    </tr>\n",
       "    <tr>\n",
       "      <td>.</td>\n",
       "      <td>0.027070</td>\n",
       "      <td>0.066470</td>\n",
       "      <td>0.093809</td>\n",
       "      <td>0.052890</td>\n",
       "      <td>0.221031</td>\n",
       "      <td>0.058072</td>\n",
       "      <td>0.090235</td>\n",
       "      <td>0.002502</td>\n",
       "      <td>0.081658</td>\n",
       "      <td>0.044045</td>\n",
       "      <td>0.088716</td>\n",
       "      <td>0.173412</td>\n",
       "    </tr>\n",
       "    <tr>\n",
       "      <td>ADV</td>\n",
       "      <td>0.023619</td>\n",
       "      <td>0.014637</td>\n",
       "      <td>0.136061</td>\n",
       "      <td>0.079508</td>\n",
       "      <td>0.031603</td>\n",
       "      <td>0.007319</td>\n",
       "      <td>0.119095</td>\n",
       "      <td>0.014305</td>\n",
       "      <td>0.032269</td>\n",
       "      <td>0.129408</td>\n",
       "      <td>0.342648</td>\n",
       "      <td>0.069528</td>\n",
       "    </tr>\n",
       "    <tr>\n",
       "      <td>NOUN</td>\n",
       "      <td>0.028767</td>\n",
       "      <td>0.004697</td>\n",
       "      <td>0.241060</td>\n",
       "      <td>0.016750</td>\n",
       "      <td>0.264438</td>\n",
       "      <td>0.042386</td>\n",
       "      <td>0.177117</td>\n",
       "      <td>0.043624</td>\n",
       "      <td>0.009577</td>\n",
       "      <td>0.012017</td>\n",
       "      <td>0.146275</td>\n",
       "      <td>0.013291</td>\n",
       "    </tr>\n",
       "    <tr>\n",
       "      <td>CONJ</td>\n",
       "      <td>0.008804</td>\n",
       "      <td>0.059778</td>\n",
       "      <td>0.035218</td>\n",
       "      <td>0.054680</td>\n",
       "      <td>0.347544</td>\n",
       "      <td>0.000463</td>\n",
       "      <td>0.052827</td>\n",
       "      <td>0.005097</td>\n",
       "      <td>0.042169</td>\n",
       "      <td>0.119092</td>\n",
       "      <td>0.159407</td>\n",
       "      <td>0.114921</td>\n",
       "    </tr>\n",
       "    <tr>\n",
       "      <td>ADP</td>\n",
       "      <td>0.034295</td>\n",
       "      <td>0.068697</td>\n",
       "      <td>0.040047</td>\n",
       "      <td>0.012781</td>\n",
       "      <td>0.322505</td>\n",
       "      <td>0.000746</td>\n",
       "      <td>0.017148</td>\n",
       "      <td>0.001491</td>\n",
       "      <td>0.063266</td>\n",
       "      <td>0.108318</td>\n",
       "      <td>0.008414</td>\n",
       "      <td>0.322292</td>\n",
       "    </tr>\n",
       "    <tr>\n",
       "      <td>PRT</td>\n",
       "      <td>0.013063</td>\n",
       "      <td>0.017309</td>\n",
       "      <td>0.043109</td>\n",
       "      <td>0.010124</td>\n",
       "      <td>0.245918</td>\n",
       "      <td>0.001960</td>\n",
       "      <td>0.020248</td>\n",
       "      <td>0.001960</td>\n",
       "      <td>0.057805</td>\n",
       "      <td>0.084259</td>\n",
       "      <td>0.401698</td>\n",
       "      <td>0.102547</td>\n",
       "    </tr>\n",
       "    <tr>\n",
       "      <td>NUM</td>\n",
       "      <td>0.211251</td>\n",
       "      <td>0.001465</td>\n",
       "      <td>0.117492</td>\n",
       "      <td>0.002637</td>\n",
       "      <td>0.351890</td>\n",
       "      <td>0.013771</td>\n",
       "      <td>0.034574</td>\n",
       "      <td>0.027249</td>\n",
       "      <td>0.185174</td>\n",
       "      <td>0.033109</td>\n",
       "      <td>0.017873</td>\n",
       "      <td>0.003516</td>\n",
       "    </tr>\n",
       "    <tr>\n",
       "      <td>ADJ</td>\n",
       "      <td>0.021196</td>\n",
       "      <td>0.000657</td>\n",
       "      <td>0.065067</td>\n",
       "      <td>0.004765</td>\n",
       "      <td>0.698160</td>\n",
       "      <td>0.017417</td>\n",
       "      <td>0.077719</td>\n",
       "      <td>0.011173</td>\n",
       "      <td>0.020703</td>\n",
       "      <td>0.066875</td>\n",
       "      <td>0.011830</td>\n",
       "      <td>0.004436</td>\n",
       "    </tr>\n",
       "    <tr>\n",
       "      <td>VERB</td>\n",
       "      <td>0.217982</td>\n",
       "      <td>0.035374</td>\n",
       "      <td>0.035063</td>\n",
       "      <td>0.081375</td>\n",
       "      <td>0.109534</td>\n",
       "      <td>0.005508</td>\n",
       "      <td>0.092002</td>\n",
       "      <td>0.031185</td>\n",
       "      <td>0.022962</td>\n",
       "      <td>0.065317</td>\n",
       "      <td>0.169421</td>\n",
       "      <td>0.134280</td>\n",
       "    </tr>\n",
       "    <tr>\n",
       "      <td>DET</td>\n",
       "      <td>0.046343</td>\n",
       "      <td>0.003741</td>\n",
       "      <td>0.017861</td>\n",
       "      <td>0.012551</td>\n",
       "      <td>0.639512</td>\n",
       "      <td>0.000483</td>\n",
       "      <td>0.009172</td>\n",
       "      <td>0.000241</td>\n",
       "      <td>0.022448</td>\n",
       "      <td>0.202993</td>\n",
       "      <td>0.039102</td>\n",
       "      <td>0.005552</td>\n",
       "    </tr>\n",
       "  </tbody>\n",
       "</table>\n",
       "</div>"
      ],
      "text/plain": [
       "             X      PRON         .       ADV      NOUN      CONJ       ADP  \\\n",
       "X     0.074286  0.055238  0.163651  0.025873  0.062222  0.010476  0.143968   \n",
       "PRON  0.093282  0.006526  0.039155  0.035317  0.209597  0.005374  0.023033   \n",
       ".     0.027070  0.066470  0.093809  0.052890  0.221031  0.058072  0.090235   \n",
       "ADV   0.023619  0.014637  0.136061  0.079508  0.031603  0.007319  0.119095   \n",
       "NOUN  0.028767  0.004697  0.241060  0.016750  0.264438  0.042386  0.177117   \n",
       "CONJ  0.008804  0.059778  0.035218  0.054680  0.347544  0.000463  0.052827   \n",
       "ADP   0.034295  0.068697  0.040047  0.012781  0.322505  0.000746  0.017148   \n",
       "PRT   0.013063  0.017309  0.043109  0.010124  0.245918  0.001960  0.020248   \n",
       "NUM   0.211251  0.001465  0.117492  0.002637  0.351890  0.013771  0.034574   \n",
       "ADJ   0.021196  0.000657  0.065067  0.004765  0.698160  0.017417  0.077719   \n",
       "VERB  0.217982  0.035374  0.035063  0.081375  0.109534  0.005508  0.092002   \n",
       "DET   0.046343  0.003741  0.017861  0.012551  0.639512  0.000483  0.009172   \n",
       "\n",
       "           PRT       NUM       ADJ      VERB       DET  \n",
       "X     0.184762  0.002857  0.017460  0.204921  0.054286  \n",
       "PRON  0.012668  0.007294  0.072169  0.485988  0.009597  \n",
       ".     0.002502  0.081658  0.044045  0.088716  0.173412  \n",
       "ADV   0.014305  0.032269  0.129408  0.342648  0.069528  \n",
       "NOUN  0.043624  0.009577  0.012017  0.146275  0.013291  \n",
       "CONJ  0.005097  0.042169  0.119092  0.159407  0.114921  \n",
       "ADP   0.001491  0.063266  0.108318  0.008414  0.322292  \n",
       "PRT   0.001960  0.057805  0.084259  0.401698  0.102547  \n",
       "NUM   0.027249  0.185174  0.033109  0.017873  0.003516  \n",
       "ADJ   0.011173  0.020703  0.066875  0.011830  0.004436  \n",
       "VERB  0.031185  0.022962  0.065317  0.169421  0.134280  \n",
       "DET   0.000241  0.022448  0.202993  0.039102  0.005552  "
      ]
     },
     "execution_count": 14,
     "metadata": {},
     "output_type": "execute_result"
    }
   ],
   "source": [
    "# convert the matrix to a df for better readability\n",
    "tags_df = pd.DataFrame(tags_matrix, columns = list(training_pos_tag_set), index=list(training_pos_tag_set))\n",
    "tags_df"
   ]
  },
  {
   "cell_type": "markdown",
   "metadata": {},
   "source": [
    "### EDA"
   ]
  },
  {
   "cell_type": "code",
   "execution_count": 15,
   "metadata": {},
   "outputs": [],
   "source": [
    "# Importing libraries for heatmap\n",
    "import matplotlib.pyplot as plt\n",
    "import seaborn as sns"
   ]
  },
  {
   "cell_type": "code",
   "execution_count": 16,
   "metadata": {},
   "outputs": [
    {
     "data": {
      "image/png": "[encoded data removed]",
      "text/plain": [
       "<Figure size 1296x864 with 2 Axes>"
      ]
     },
     "metadata": {
      "needs_background": "light"
     },
     "output_type": "display_data"
    }
   ],
   "source": [
    "# heatmap of tags matrix\n",
    "# T(i, j) means P(tag j given tag i)\n",
    "plt.figure(figsize=(18, 12))\n",
    "sns.heatmap(tags_df, annot = True)\n",
    "plt.show()"
   ]
  },
  {
   "cell_type": "code",
   "execution_count": 17,
   "metadata": {},
   "outputs": [
    {
     "data": {
      "image/png": "[encoded data removed]",
      "text/plain": [
       "<Figure size 1296x864 with 2 Axes>"
      ]
     },
     "metadata": {
      "needs_background": "light"
     },
     "output_type": "display_data"
    }
   ],
   "source": [
    "# frequent tags\n",
    "# filter the df to get P(t2, t1) > 0.5\n",
    "tags_frequent = tags_df[tags_df>0.5]\n",
    "plt.figure(figsize=(18, 12))\n",
    "sns.heatmap(tags_frequent, annot = True)\n",
    "plt.show()"
   ]
  },
  {
   "cell_type": "markdown",
   "metadata": {},
   "source": [
    "### Viterbi Algorithm"
   ]
  },
  {
   "cell_type": "markdown",
   "metadata": {},
   "source": [
    "The steps are as follows:\n",
    "\n",
    "- Given a sequence of words.\n",
    "- Iterate through the sequence\n",
    "- For each word (starting from first word in sequence) calculate the product of emission probabilties and  transition probabilties for all possible tags.\n",
    "- Assign the tag which has maximum probability obtained in step 3 above.\n",
    "- Move to the next word in sequence to repeat steps 3 and 4 above."
   ]
  },
  {
   "cell_type": "code",
   "execution_count": 18,
   "metadata": {},
   "outputs": [],
   "source": [
    "# Viterbi Heuristic\n",
    "def Viterbi(words, train_bag = train_tagged_words):\n",
    "    state = []\n",
    "    T = list(set([pair[1] for pair in train_bag]))\n",
    "    \n",
    "    for key, word in enumerate(words):\n",
    "        #initialise list of probability column for a given observation\n",
    "        p = [] \n",
    "        for tag in T:\n",
    "            if key == 0:\n",
    "                transition_p = tags_df.loc['.', tag]\n",
    "            else:\n",
    "                transition_p = tags_df.loc[state[-1], tag]\n",
    "                \n",
    "            # compute emission and state probabilities\n",
    "            emission_p = word_given_tag(words[key], tag)[0]/word_given_tag(words[key], tag)[1]\n",
    "            state_probability = emission_p * transition_p    \n",
    "            p.append(state_probability)\n",
    "            \n",
    "        pmax = max(p)\n",
    "        # getting state for which probability is maximum\n",
    "        state_max = T[p.index(pmax)] \n",
    "        state.append(state_max)\n",
    "    return list(zip(words, state))"
   ]
  },
  {
   "cell_type": "markdown",
   "metadata": {},
   "source": [
    "### Evaluating Vanilla Viterbi Algorithm on Test Data"
   ]
  },
  {
   "cell_type": "code",
   "execution_count": 19,
   "metadata": {},
   "outputs": [
    {
     "data": {
      "text/plain": [
       "[[('However', 'ADV'),\n",
       "  (',', '.'),\n",
       "  ('five', 'NUM'),\n",
       "  ('other', 'ADJ'),\n",
       "  ('countries', 'NOUN'),\n",
       "  ('--', '.'),\n",
       "  ('China', 'NOUN'),\n",
       "  (',', '.'),\n",
       "  ('Thailand', 'NOUN'),\n",
       "  (',', '.'),\n",
       "  ('India', 'NOUN'),\n",
       "  (',', '.'),\n",
       "  ('Brazil', 'NOUN'),\n",
       "  ('and', 'CONJ'),\n",
       "  ('Mexico', 'NOUN'),\n",
       "  ('--', '.'),\n",
       "  ('will', 'VERB'),\n",
       "  ('remain', 'VERB'),\n",
       "  ('on', 'ADP'),\n",
       "  ('that', 'DET'),\n",
       "  ('so-called', 'ADJ'),\n",
       "  ('priority', 'NOUN'),\n",
       "  ('watch', 'NOUN'),\n",
       "  ('list', 'NOUN'),\n",
       "  ('as', 'ADP'),\n",
       "  ('a', 'DET'),\n",
       "  ('result', 'NOUN'),\n",
       "  ('of', 'ADP'),\n",
       "  ('an', 'DET'),\n",
       "  ('interim', 'ADJ'),\n",
       "  ('review', 'NOUN'),\n",
       "  (',', '.'),\n",
       "  ('U.S.', 'NOUN'),\n",
       "  ('Trade', 'NOUN'),\n",
       "  ('Representative', 'NOUN'),\n",
       "  ('Carla', 'NOUN'),\n",
       "  ('Hills', 'NOUN'),\n",
       "  ('announced', 'VERB'),\n",
       "  ('0', 'X'),\n",
       "  ('*T*-1', 'X'),\n",
       "  ('.', '.')],\n",
       " [('Dr.', 'NOUN'),\n",
       "  ('Talcott', 'NOUN'),\n",
       "  ('led', 'VERB'),\n",
       "  ('a', 'DET'),\n",
       "  ('team', 'NOUN'),\n",
       "  ('of', 'ADP'),\n",
       "  ('researchers', 'NOUN'),\n",
       "  ('from', 'ADP'),\n",
       "  ('the', 'DET'),\n",
       "  ('National', 'NOUN'),\n",
       "  ('Cancer', 'NOUN'),\n",
       "  ('Institute', 'NOUN'),\n",
       "  ('and', 'CONJ'),\n",
       "  ('the', 'DET'),\n",
       "  ('medical', 'ADJ'),\n",
       "  ('schools', 'NOUN'),\n",
       "  ('of', 'ADP'),\n",
       "  ('Harvard', 'NOUN'),\n",
       "  ('University', 'NOUN'),\n",
       "  ('and', 'CONJ'),\n",
       "  ('Boston', 'NOUN'),\n",
       "  ('University', 'NOUN'),\n",
       "  ('.', '.')],\n",
       " [('Some', 'DET'),\n",
       "  ('Asian', 'ADJ'),\n",
       "  ('nations', 'NOUN'),\n",
       "  ('are', 'VERB'),\n",
       "  ('apprehensive', 'ADJ'),\n",
       "  ('about', 'ADP'),\n",
       "  ('Washington', 'NOUN'),\n",
       "  (\"'s\", 'PRT'),\n",
       "  ('demand', 'NOUN'),\n",
       "  ('that', 'ADP'),\n",
       "  ('Tokyo', 'NOUN'),\n",
       "  ('step', 'VERB'),\n",
       "  ('up', 'PRT'),\n",
       "  ('its', 'PRON'),\n",
       "  ('military', 'ADJ'),\n",
       "  ('spending', 'NOUN'),\n",
       "  ('*-1', 'X'),\n",
       "  ('to', 'PRT'),\n",
       "  ('ease', 'VERB'),\n",
       "  ('the', 'DET'),\n",
       "  ('U.S.', 'NOUN'),\n",
       "  ('security', 'NOUN'),\n",
       "  ('burden', 'NOUN'),\n",
       "  ('in', 'ADP'),\n",
       "  ('the', 'DET'),\n",
       "  ('region', 'NOUN'),\n",
       "  ('.', '.')],\n",
       " [('But', 'CONJ'),\n",
       "  ('some', 'DET'),\n",
       "  ('of', 'ADP'),\n",
       "  ('the', 'DET'),\n",
       "  ('TV', 'NOUN'),\n",
       "  ('stations', 'NOUN'),\n",
       "  ('that', 'DET'),\n",
       "  ('*T*-149', 'X'),\n",
       "  ('bought', 'VERB'),\n",
       "  ('``', '.'),\n",
       "  ('Cosby', 'NOUN'),\n",
       "  (\"''\", '.'),\n",
       "  ('reruns', 'NOUN'),\n",
       "  ('for', 'ADP'),\n",
       "  ('record', 'NOUN'),\n",
       "  ('prices', 'NOUN'),\n",
       "  ('two', 'NUM'),\n",
       "  ('years', 'NOUN'),\n",
       "  ('ago', 'ADV'),\n",
       "  ('are', 'VERB'),\n",
       "  (\"n't\", 'ADV'),\n",
       "  ('laughing', 'VERB'),\n",
       "  ('much', 'ADV'),\n",
       "  ('these', 'DET'),\n",
       "  ('days', 'NOUN'),\n",
       "  ('.', '.')],\n",
       " [('Heritage', 'NOUN'),\n",
       "  (',', '.'),\n",
       "  ('which', 'DET'),\n",
       "  ('*T*-1', 'X'),\n",
       "  ('owns', 'VERB'),\n",
       "  ('51', 'NUM'),\n",
       "  ('%', 'NOUN'),\n",
       "  ('of', 'ADP'),\n",
       "  ('POP', 'NOUN'),\n",
       "  (\"'s\", 'PRT'),\n",
       "  ('3.6', 'NUM'),\n",
       "  ('million', 'NUM'),\n",
       "  ('shares', 'NOUN'),\n",
       "  ('outstanding', 'ADJ'),\n",
       "  (',', '.'),\n",
       "  ('said', 'VERB'),\n",
       "  ('0', 'X'),\n",
       "  ('it', 'PRON'),\n",
       "  ('will', 'VERB'),\n",
       "  ('exchange', 'VERB'),\n",
       "  ('one', 'NUM'),\n",
       "  ('share', 'NOUN'),\n",
       "  ('of', 'ADP'),\n",
       "  ('a', 'DET'),\n",
       "  ('new', 'ADJ'),\n",
       "  ('preferred', 'VERB'),\n",
       "  ('stock', 'NOUN'),\n",
       "  ('for', 'ADP'),\n",
       "  ('each', 'DET'),\n",
       "  ('POP', 'NOUN'),\n",
       "  ('common', 'ADJ'),\n",
       "  ('share', 'NOUN'),\n",
       "  ('0', 'X'),\n",
       "  ('it', 'PRON'),\n",
       "  ('does', 'VERB'),\n",
       "  (\"n't\", 'ADV'),\n",
       "  ('already', 'ADV'),\n",
       "  ('own', 'VERB'),\n",
       "  ('*T*-2', 'X'),\n",
       "  ('.', '.')]]"
      ]
     },
     "execution_count": 19,
     "metadata": {},
     "output_type": "execute_result"
    }
   ],
   "source": [
    "# Let's test our Viterbi algorithm on a few sample sentences of test dataset\n",
    "\n",
    "random.seed(1234)\n",
    "\n",
    "# choose random 5 sents\n",
    "rndom = [random.randint(1,len(test_set)) for x in range(5)]\n",
    "\n",
    "# list of sents\n",
    "test_run = [test_set[i] for i in rndom]\n",
    "\n",
    "# list of tagged words\n",
    "test_run_base = [tup for sent in test_run for tup in sent]\n",
    "\n",
    "# list of untagged words\n",
    "test_tagged_words = [tup[0] for sent in test_run for tup in sent]\n",
    "test_run"
   ]
  },
  {
   "cell_type": "code",
   "execution_count": 20,
   "metadata": {},
   "outputs": [
    {
     "name": "stdout",
     "output_type": "stream",
     "text": [
      "Time taken in seconds:  32.77009916305542\n"
     ]
    },
    {
     "data": {
      "text/plain": [
       "0.9426751592356688"
      ]
     },
     "execution_count": 20,
     "metadata": {},
     "output_type": "execute_result"
    }
   ],
   "source": [
    "# tagging the test sentences\n",
    "start = time.time()\n",
    "tagged_seq = Viterbi(test_tagged_words)\n",
    "end = time.time()\n",
    "difference = end-start\n",
    "\n",
    "print(\"Time taken in seconds: \", difference)\n",
    "\n",
    "# accuracy\n",
    "check = [i for i, j in zip(tagged_seq, test_run_base) if i == j] \n",
    "accuracy_vanilla = len(check)/len(tagged_seq)\n",
    "accuracy_vanilla"
   ]
  },
  {
   "cell_type": "code",
   "execution_count": 21,
   "metadata": {},
   "outputs": [
    {
     "name": "stdout",
     "output_type": "stream",
     "text": [
      "Total Incorrect Tagged Words : 9\n",
      "\n",
      "\n",
      "Incorrect Tagged Words : [(('India', 'X'), ('India', 'NOUN')), (('watch', 'VERB'), ('watch', 'NOUN')), (('apprehensive', 'X'), ('apprehensive', 'ADJ')), (('step', 'NOUN'), ('step', 'VERB')), (('that', 'ADP'), ('that', 'DET')), (('ago', 'ADP'), ('ago', 'ADV')), (('exchange', 'NOUN'), ('exchange', 'VERB')), (('preferred', 'ADJ'), ('preferred', 'VERB')), (('own', 'ADJ'), ('own', 'VERB'))]\n"
     ]
    }
   ],
   "source": [
    "# let's check the incorrectly tagged words\n",
    "incorrect_tagged_words = [j for i, j in enumerate(zip(tagged_seq, test_run_base)) if j[0] != j[1]]\n",
    "\n",
    "print(\"Total Incorrect Tagged Words :\", len(incorrect_tagged_words))\n",
    "print(\"\\n\")\n",
    "print(\"Incorrect Tagged Words :\", incorrect_tagged_words)"
   ]
  },
  {
   "cell_type": "markdown",
   "metadata": {},
   "source": [
    "Before proceeding for dealing with unknown words, lets first see how many unknown words we have. Unknows words would be those words that are present in the test set but not in the train set. That is the words the algorithm has not seen before."
   ]
  },
  {
   "cell_type": "code",
   "execution_count": 22,
   "metadata": {},
   "outputs": [
    {
     "name": "stdout",
     "output_type": "stream",
     "text": [
      "Total Unknown words : 3\n",
      "\n",
      "\n",
      "Unknown Words : ['*T*-149', 'India', 'apprehensive']\n"
     ]
    }
   ],
   "source": [
    "# Unknown words \n",
    "\n",
    "test_vocabulary_set = set([t for t in test_tagged_words])\n",
    "\n",
    "unknown_words = list(test_vocabulary_set - training_vocabulary_set)\n",
    "print(\"Total Unknown words :\", len(unknown_words))\n",
    "print(\"\\n\")\n",
    "print(\"Unknown Words :\", unknown_words)"
   ]
  },
  {
   "cell_type": "markdown",
   "metadata": {},
   "source": [
    "### Solve the problem of unknown words"
   ]
  },
  {
   "cell_type": "markdown",
   "metadata": {},
   "source": [
    "### Lexicon (Unigram) Tagger"
   ]
  },
  {
   "cell_type": "code",
   "execution_count": 23,
   "metadata": {},
   "outputs": [
    {
     "name": "stdout",
     "output_type": "stream",
     "text": [
      "The accuracy of the Unigram Tagger is - 0.9110880829015544\n"
     ]
    }
   ],
   "source": [
    "# Lexicon (or unigram tagger)\n",
    "unigram_tagger = nltk.UnigramTagger(train_set)\n",
    "accuracy_unigram_tagger = unigram_tagger.evaluate(test_set)\n",
    "print(\"The accuracy of the Unigram Tagger is -\", accuracy_unigram_tagger)"
   ]
  },
  {
   "cell_type": "code",
   "execution_count": 24,
   "metadata": {},
   "outputs": [],
   "source": [
    "# patterns for tagging using a rule based regex tagger -\n",
    "\n",
    "patterns = [\n",
    "    (r'.*ing$', 'VERB'),              # gerund\n",
    "    (r'.*ed$', 'VERB'),               # past tense verbs\n",
    "    (r'.*es$', 'VERB'),               # singular present verbs\n",
    "    (r'.*ould$', 'VERB'),              # modal verbs\n",
    "    (r'.*\\'s$', 'NOUN'),              # possessive nouns\n",
    "    (r'.*s$', 'NOUN'),                # plural nouns\n",
    "    (r'^-?[0-9]+(.[0-9]+)?$', 'NUM'), # cardinal numbers\n",
    "    (r'(The|the|A|a|An|an)$', 'DET'),   # articles or determinants\n",
    "    (r'.*able$', 'ADJ'),                # adjectives\n",
    "    (r'.*ness$', 'NOUN'),                # nouns formed from adjectives\n",
    "    (r'.*ly$', 'ADV'),                  # adverbs\n",
    "    (r'.*', 'NOUN')                    # nouns\n",
    "]"
   ]
  },
  {
   "cell_type": "code",
   "execution_count": 25,
   "metadata": {},
   "outputs": [
    {
     "name": "stdout",
     "output_type": "stream",
     "text": [
      "The accuracy of the Unigram Tagger with Rule based tagger is - 0.9541968911917098\n"
     ]
    }
   ],
   "source": [
    "# rule based (Regex) tagger\n",
    "rule_based_tagger = nltk.RegexpTagger(patterns)\n",
    "\n",
    "# lexicon backed up by the rule-based tagger\n",
    "unigram_tagger = nltk.UnigramTagger(train_set, backoff=rule_based_tagger)\n",
    "\n",
    "accuracy_unigram_regex = unigram_tagger.evaluate(test_set)\n",
    "\n",
    "print(\"The accuracy of the Unigram Tagger with Rule based tagger is -\", accuracy_unigram_regex)"
   ]
  },
  {
   "cell_type": "markdown",
   "metadata": {},
   "source": [
    "### Viterbi Modification - Technique 1 (Rule Based)"
   ]
  },
  {
   "cell_type": "markdown",
   "metadata": {},
   "source": [
    "Let's modify Viterbi by using trigram tagger backed by Bigram backed by Unigram backed by Rule based tagger"
   ]
  },
  {
   "cell_type": "code",
   "execution_count": 26,
   "metadata": {},
   "outputs": [],
   "source": [
    "# Trigram tagger backed by Bigram backed by Unigram which is backed by rule based tagger\n",
    "\n",
    "from nltk.tag import brill, brill_trainer \n",
    "from nltk.tag.brill import Pos, Word\n",
    "from nltk.tag import DefaultTagger \n",
    "from nltk.tbl.template import Template\n",
    "from nltk.tag import BrillTaggerTrainer"
   ]
  },
  {
   "cell_type": "code",
   "execution_count": 27,
   "metadata": {},
   "outputs": [],
   "source": [
    "# Initializing \n",
    "\n",
    "bigram_tagger = nltk.BigramTagger(train_set, backoff=unigram_tagger)\n",
    "trigram_tagger = nltk.TrigramTagger(train_set, backoff=bigram_tagger)\n",
    "\n",
    "#Clear existing templates\n",
    "Template._cleartemplates()\n",
    "\n",
    "#Load the fntbl37 template\n",
    "templates = [Template(Pos([-1])), Template(Pos([-1]), Word([0]))]\n",
    " \n",
    "#Train the Brill model\n",
    "trainer = BrillTaggerTrainer(trigram_tagger, templates)\n",
    "brill_tagger = trainer.train(train_set, max_rules=100, min_score=3)\n"
   ]
  },
  {
   "cell_type": "code",
   "execution_count": 28,
   "metadata": {},
   "outputs": [
    {
     "name": "stdout",
     "output_type": "stream",
     "text": [
      "Accuracy of brill_tag :  0.9541968911917098\n"
     ]
    }
   ],
   "source": [
    "accuracy_brill = brill_tagger.evaluate(test_set) \n",
    "print (\"Accuracy of brill_tag : \", accuracy_brill) "
   ]
  },
  {
   "cell_type": "code",
   "execution_count": 29,
   "metadata": {},
   "outputs": [],
   "source": [
    "# Viterbi Heuristic\n",
    "def Viterbi_updated(words, train_bag = train_tagged_words):\n",
    "    state = []\n",
    "    T = list(set([pair[1] for pair in train_bag]))\n",
    "    \n",
    "    for key, word in enumerate(words):\n",
    "        #initialise list of probability column for a given observation\n",
    "        p = [] \n",
    "        for tag in T:\n",
    "            if key == 0:\n",
    "                transition_p = tags_df.loc['.', tag]\n",
    "            else:\n",
    "                transition_p = tags_df.loc[state[-1], tag]\n",
    "                \n",
    "            # compute emission and state probabilities\n",
    "            emission_p = word_given_tag(words[key], tag)[0]/word_given_tag(words[key], tag)[1]\n",
    "            state_probability = emission_p * transition_p    \n",
    "            p.append(state_probability)\n",
    "            \n",
    "        pmax = max(p)\n",
    "       \n",
    "        #Check if state probability is zero\n",
    "        if(pmax==0.0):\n",
    "            #If state probability is zero i.e if the word is unknown if updates the tag based on the brill tagger\n",
    "            state_max = brill_tagger.tag([word])[0][1]\n",
    "        else:\n",
    "            # getting state for which probability is maximum\n",
    "            state_max = T[p.index(pmax)] \n",
    "        state.append(state_max)\n",
    "    return list(zip(words, state))"
   ]
  },
  {
   "cell_type": "markdown",
   "metadata": {},
   "source": [
    "#### Evaluating tagging accuracy"
   ]
  },
  {
   "cell_type": "code",
   "execution_count": 30,
   "metadata": {},
   "outputs": [
    {
     "name": "stdout",
     "output_type": "stream",
     "text": [
      "31.85928511619568\n"
     ]
    }
   ],
   "source": [
    "# tagging the test sentences with the updated Viterbi algorithm\n",
    "start = time.time()\n",
    "updated_tagged_seq = Viterbi_updated(test_tagged_words)\n",
    "end = time.time()\n",
    "difference = end-start\n",
    "#Print total time taken to train the algorithm\n",
    "print(difference)"
   ]
  },
  {
   "cell_type": "code",
   "execution_count": 31,
   "metadata": {},
   "outputs": [
    {
     "data": {
      "text/plain": [
       "0.9426751592356688"
      ]
     },
     "execution_count": 31,
     "metadata": {},
     "output_type": "execute_result"
    }
   ],
   "source": [
    "# Calculate the accuracy for the updated Viterbi algorithm\n",
    "check = [i for i, j in zip(updated_tagged_seq, test_run_base) if i == j] \n",
    "accuracy_viterbi_1 = len(check)/len(updated_tagged_seq)\n",
    "accuracy_viterbi_1"
   ]
  },
  {
   "cell_type": "markdown",
   "metadata": {},
   "source": [
    "### Viterbi Modification - Technique 2 (Probability Based)"
   ]
  },
  {
   "cell_type": "markdown",
   "metadata": {},
   "source": [
    "In this technique let's use the transition probability as state probability when the words are not in corpus. Because for the unknown words the emission probability is zero."
   ]
  },
  {
   "cell_type": "code",
   "execution_count": 32,
   "metadata": {},
   "outputs": [],
   "source": [
    "# Viterbi Heuristic\n",
    "def Viterbi_updated1(words, train_bag = train_tagged_words):\n",
    "    state = []\n",
    "    T = list(set([pair[1] for pair in train_bag]))\n",
    "    \n",
    "    for key, word in enumerate(words):\n",
    "        #initialise list of probability column for a given observation\n",
    "        p = []  \n",
    "        p_transition =[] # list for storing transition probabilities\n",
    "        for tag in T:\n",
    "            if key == 0:\n",
    "                transition_p = tags_df.loc['.', tag]\n",
    "            else:\n",
    "                transition_p = tags_df.loc[state[-1], tag]\n",
    "                \n",
    "            # compute emission and state probabilities\n",
    "            emission_p = word_given_tag(words[key], tag)[0]/word_given_tag(words[key], tag)[1]\n",
    "            state_probability = emission_p * transition_p    \n",
    "            p.append(state_probability)\n",
    "            p_transition.append(transition_p)\n",
    "            \n",
    "        pmax = max(p)\n",
    "        state_max = T[p.index(pmax)] \n",
    "        \n",
    "      \n",
    "        # if probability is zero (unknown word) then use transition probability\n",
    "        if(pmax==0):\n",
    "            pmax = max(p_transition)\n",
    "            state_max = T[p_transition.index(pmax)]\n",
    "                           \n",
    "        else:\n",
    "            state_max = T[p.index(pmax)] \n",
    "        \n",
    "        state.append(state_max)\n",
    "    return list(zip(words, state))"
   ]
  },
  {
   "cell_type": "code",
   "execution_count": 33,
   "metadata": {},
   "outputs": [
    {
     "name": "stdout",
     "output_type": "stream",
     "text": [
      "Time taken in seconds:  31.861255884170532\n",
      "Vanilla Viterbi for Unknown Words Accuracy:  0.9426751592356688\n"
     ]
    }
   ],
   "source": [
    "# tagging the test sentences\n",
    "start = time.time()\n",
    "tagged_seq = Viterbi_updated1(test_tagged_words)\n",
    "end = time.time()\n",
    "difference = end-start\n",
    "\n",
    "print(\"Time taken in seconds: \", difference)\n",
    "\n",
    "# accuracy\n",
    "check = [i for i, j in zip(tagged_seq, test_run_base) if i == j] \n",
    "accuracy = len(check)/len(tagged_seq)\n",
    "print('Vanilla Viterbi for Unknown Words Accuracy: ',accuracy)"
   ]
  },
  {
   "cell_type": "markdown",
   "metadata": {},
   "source": [
    "Let's apply weights based on the probability of tag occurance to the transition probabilities of tags and then use the resulting probability for predicting unknown words."
   ]
  },
  {
   "cell_type": "code",
   "execution_count": 34,
   "metadata": {},
   "outputs": [
    {
     "data": {
      "text/plain": [
       "[('X', 0.0657270138026729),\n",
       " ('PRON', 0.027177598564438556),\n",
       " ('.', 0.11677499452274885),\n",
       " ('ADV', 0.03136117515727536),\n",
       " ('NOUN', 0.2865071830236513),\n",
       " ('CONJ', 0.022514110442248908),\n",
       " ('ADP', 0.09795411628465013),\n",
       " ('PRT', 0.03194541527996578),\n",
       " ('NUM', 0.0356073489061147),\n",
       " ('ADJ', 0.06349438190524877),\n",
       " ('VERB', 0.13448998967146927),\n",
       " ('DET', 0.0864466724395155)]"
      ]
     },
     "execution_count": 34,
     "metadata": {},
     "output_type": "execute_result"
    }
   ],
   "source": [
    "# lets create a list containing tuples of POS tags and POS tag occurance probability, based on training data\n",
    "tag_prob = []\n",
    "total_tag = len([tag for word,tag in train_tagged_words])\n",
    "for t in training_pos_tag_set:\n",
    "    each_tag = [tag for word,tag in train_tagged_words if tag==t]\n",
    "    tag_prob.append((t,len(each_tag)/total_tag))\n",
    "\n",
    "tag_prob"
   ]
  },
  {
   "cell_type": "code",
   "execution_count": 35,
   "metadata": {},
   "outputs": [],
   "source": [
    "# use transition probability of tags when emission probability is zero (in case of unknown words)\n",
    "\n",
    "def Viterbi_updated1_modified(words, train_bag = train_tagged_words):\n",
    "    state = []\n",
    "    T = list(set([pair[1] for pair in train_bag]))\n",
    "    \n",
    "    for key, word in enumerate(words):\n",
    "        #initialise list of probability column for a given observation\n",
    "        p = [] \n",
    "        p_transition =[] # list for storing transition probabilities\n",
    "       \n",
    "        for tag in T:\n",
    "            if key == 0:\n",
    "                transition_p = tags_df.loc['.', tag]\n",
    "            else:\n",
    "                transition_p = tags_df.loc[state[-1], tag]\n",
    "                \n",
    "            # compute emission and state probabilities\n",
    "            emission_p = word_given_tag(words[key], tag)[0]/word_given_tag(words[key], tag)[1]\n",
    "            state_probability = emission_p * transition_p    \n",
    "            p.append(state_probability)\n",
    "            \n",
    "            # find POS tag occurance probability\n",
    "            tag_p = [pair[1] for pair in tag_prob if pair[0]==tag ]\n",
    "            \n",
    "            # calculate the transition prob weighted by tag occurance probability.\n",
    "            transition_p = tag_p[0]*transition_p             \n",
    "            p_transition.append(transition_p)\n",
    "            \n",
    "        pmax = max(p)\n",
    "        state_max = T[p.index(pmax)] \n",
    "        \n",
    "      \n",
    "        # if probability is zero (unknown word) then use weighted transition probability\n",
    "        if(pmax==0):\n",
    "            pmax = max(p_transition)\n",
    "            state_max = T[p_transition.index(pmax)]                 \n",
    "                           \n",
    "        else:\n",
    "            state_max = T[p.index(pmax)] \n",
    "        \n",
    "        state.append(state_max)\n",
    "    return list(zip(words, state))"
   ]
  },
  {
   "cell_type": "markdown",
   "metadata": {},
   "source": [
    "#### Evaluating tagging accuracy"
   ]
  },
  {
   "cell_type": "code",
   "execution_count": 36,
   "metadata": {},
   "outputs": [
    {
     "name": "stdout",
     "output_type": "stream",
     "text": [
      "Time taken in seconds:  32.36912202835083\n",
      "Modified Vanilla Viterbi for Unknown Words Accuracy:  0.9426751592356688\n"
     ]
    }
   ],
   "source": [
    "# tagging the test sentences\n",
    "start = time.time()\n",
    "tagged_seq = Viterbi_updated1_modified(test_tagged_words)\n",
    "end = time.time()\n",
    "difference = end-start\n",
    "\n",
    "print(\"Time taken in seconds: \", difference)\n",
    "\n",
    "# accuracy\n",
    "viterbi_word_check = [i for i, j in zip(tagged_seq, test_run_base) if i == j] \n",
    "accuracy_viterbi_2 = len(viterbi_word_check)/len(tagged_seq)\n",
    "print('Modified Vanilla Viterbi for Unknown Words Accuracy: ', accuracy_viterbi_2)"
   ]
  },
  {
   "cell_type": "markdown",
   "metadata": {},
   "source": [
    "### Compare the tagging accuracies of the modifications with the vanilla Viterbi algorithm"
   ]
  },
  {
   "cell_type": "code",
   "execution_count": 37,
   "metadata": {},
   "outputs": [
    {
     "data": {
      "text/html": [
       "<div>\n",
       "<style scoped>\n",
       "    .dataframe tbody tr th:only-of-type {\n",
       "        vertical-align: middle;\n",
       "    }\n",
       "\n",
       "    .dataframe tbody tr th {\n",
       "        vertical-align: top;\n",
       "    }\n",
       "\n",
       "    .dataframe thead th {\n",
       "        text-align: right;\n",
       "    }\n",
       "</style>\n",
       "<table border=\"1\" class=\"dataframe\">\n",
       "  <thead>\n",
       "    <tr style=\"text-align: right;\">\n",
       "      <th></th>\n",
       "      <th>Accuracy</th>\n",
       "    </tr>\n",
       "    <tr>\n",
       "      <th>Algorithm</th>\n",
       "      <th></th>\n",
       "    </tr>\n",
       "  </thead>\n",
       "  <tbody>\n",
       "    <tr>\n",
       "      <td>Vanilla Viterbi</td>\n",
       "      <td>0.942675</td>\n",
       "    </tr>\n",
       "    <tr>\n",
       "      <td>Unigram Tagger</td>\n",
       "      <td>0.911088</td>\n",
       "    </tr>\n",
       "    <tr>\n",
       "      <td>Unigram backed by Regex</td>\n",
       "      <td>0.954197</td>\n",
       "    </tr>\n",
       "    <tr>\n",
       "      <td>Brillgram</td>\n",
       "      <td>0.954197</td>\n",
       "    </tr>\n",
       "    <tr>\n",
       "      <td>Technique 1</td>\n",
       "      <td>0.942675</td>\n",
       "    </tr>\n",
       "    <tr>\n",
       "      <td>Technique 2</td>\n",
       "      <td>0.942675</td>\n",
       "    </tr>\n",
       "  </tbody>\n",
       "</table>\n",
       "</div>"
      ],
      "text/plain": [
       "                         Accuracy\n",
       "Algorithm                        \n",
       "Vanilla Viterbi          0.942675\n",
       "Unigram Tagger           0.911088\n",
       "Unigram backed by Regex  0.954197\n",
       "Brillgram                0.954197\n",
       "Technique 1              0.942675\n",
       "Technique 2              0.942675"
      ]
     },
     "execution_count": 37,
     "metadata": {},
     "output_type": "execute_result"
    }
   ],
   "source": [
    "accuracy = [['Vanilla Viterbi', accuracy_vanilla], \n",
    "                  ['Unigram Tagger', accuracy_unigram_tagger],\n",
    "                  ['Unigram backed by Regex', accuracy_unigram_regex],\n",
    "                  ['Brillgram', accuracy_brill],\n",
    "                  ['Technique 1', accuracy_viterbi_1],\n",
    "                  ['Technique 2', accuracy_viterbi_2]]\n",
    "\n",
    "accuracy_df = pd.DataFrame(accuracy, columns = ['Algorithm', 'Accuracy'])\n",
    "\n",
    "accuracy_df.set_index('Algorithm', drop = True, inplace = True)\n",
    "\n",
    "accuracy_df"
   ]
  },
  {
   "cell_type": "markdown",
   "metadata": {},
   "source": [
    "### List down cases which were incorrectly tagged by original POS tagger and got corrected by your modifications"
   ]
  },
  {
   "cell_type": "markdown",
   "metadata": {},
   "source": [
    "##### Test Sentence 1"
   ]
  },
  {
   "cell_type": "code",
   "execution_count": 38,
   "metadata": {},
   "outputs": [
    {
     "name": "stdout",
     "output_type": "stream",
     "text": [
      "[('Android', 'X'), ('is', 'VERB'), ('a', 'DET'), ('mobile', 'ADJ'), ('operating', 'NOUN'), ('system', 'NOUN'), ('developed', 'VERB'), ('by', 'ADP'), ('Google', 'X'), ('.', '.')]\n"
     ]
    }
   ],
   "source": [
    "sentence_test_1 = 'Android is a mobile operating system developed by Google.'\n",
    "words = word_tokenize(sentence_test_1)\n",
    "tagged_seq = Viterbi(words)\n",
    "print(tagged_seq)"
   ]
  },
  {
   "cell_type": "code",
   "execution_count": 39,
   "metadata": {},
   "outputs": [
    {
     "name": "stdout",
     "output_type": "stream",
     "text": [
      "[('Android', 'NOUN'), ('is', 'VERB'), ('a', 'DET'), ('mobile', 'ADJ'), ('operating', 'NOUN'), ('system', 'NOUN'), ('developed', 'VERB'), ('by', 'ADP'), ('Google', 'NOUN'), ('.', '.')]\n"
     ]
    }
   ],
   "source": [
    "#With Technique 1\n",
    "tagged_seq_updated = Viterbi_updated(words)\n",
    "print(tagged_seq_updated)"
   ]
  },
  {
   "cell_type": "code",
   "execution_count": 40,
   "metadata": {},
   "outputs": [
    {
     "name": "stdout",
     "output_type": "stream",
     "text": [
      "[('Android', 'NOUN'), ('is', 'VERB'), ('a', 'DET'), ('mobile', 'ADJ'), ('operating', 'NOUN'), ('system', 'NOUN'), ('developed', 'VERB'), ('by', 'ADP'), ('Google', 'NOUN'), ('.', '.')]\n"
     ]
    }
   ],
   "source": [
    "#With Technique 2\n",
    "tagged_seq_updated = Viterbi_updated1_modified(words)\n",
    "print(tagged_seq_updated)"
   ]
  },
  {
   "cell_type": "markdown",
   "metadata": {},
   "source": [
    "##### Test Sentence 2"
   ]
  },
  {
   "cell_type": "code",
   "execution_count": 41,
   "metadata": {},
   "outputs": [
    {
     "name": "stdout",
     "output_type": "stream",
     "text": [
      "[('Android', 'X'), ('has', 'VERB'), ('been', 'VERB'), ('the', 'DET'), ('best-selling', 'ADJ'), ('OS', 'X'), ('worldwide', 'X'), ('on', 'ADP'), ('smartphones', 'X'), ('since', 'ADP'), ('2011', 'X'), ('and', 'CONJ'), ('on', 'ADP'), ('tablets', 'NOUN'), ('since', 'ADP'), ('2013', 'X'), ('.', '.')]\n"
     ]
    }
   ],
   "source": [
    "sentence_test_2='Android has been the best-selling OS worldwide on smartphones since 2011 and on tablets since 2013.'\n",
    "words = word_tokenize(sentence_test_2)\n",
    "tagged_seq = Viterbi(words)\n",
    "print(tagged_seq)"
   ]
  },
  {
   "cell_type": "code",
   "execution_count": 42,
   "metadata": {},
   "outputs": [
    {
     "name": "stdout",
     "output_type": "stream",
     "text": [
      "[('Android', 'NOUN'), ('has', 'VERB'), ('been', 'VERB'), ('the', 'DET'), ('best-selling', 'ADJ'), ('OS', 'NOUN'), ('worldwide', 'NOUN'), ('on', 'ADP'), ('smartphones', 'VERB'), ('since', 'ADP'), ('2011', 'NUM'), ('and', 'CONJ'), ('on', 'ADP'), ('tablets', 'NOUN'), ('since', 'ADP'), ('2013', 'NUM'), ('.', '.')]\n"
     ]
    }
   ],
   "source": [
    "#With Technique 1\n",
    "tagged_seq_updated = Viterbi_updated(words)\n",
    "print(tagged_seq_updated)"
   ]
  },
  {
   "cell_type": "code",
   "execution_count": 43,
   "metadata": {},
   "outputs": [
    {
     "name": "stdout",
     "output_type": "stream",
     "text": [
      "[('Android', 'NOUN'), ('has', 'VERB'), ('been', 'VERB'), ('the', 'DET'), ('best-selling', 'ADJ'), ('OS', 'NOUN'), ('worldwide', 'NOUN'), ('on', 'ADP'), ('smartphones', 'NOUN'), ('since', 'ADP'), ('2011', 'NOUN'), ('and', 'CONJ'), ('on', 'ADP'), ('tablets', 'NOUN'), ('since', 'ADP'), ('2013', 'NOUN'), ('.', '.')]\n"
     ]
    }
   ],
   "source": [
    "#With Technique 2\n",
    "tagged_seq_updated = Viterbi_updated1_modified(words)\n",
    "print(tagged_seq_updated)"
   ]
  },
  {
   "cell_type": "markdown",
   "metadata": {},
   "source": [
    "##### Test Sentence 3"
   ]
  },
  {
   "cell_type": "code",
   "execution_count": 44,
   "metadata": {},
   "outputs": [
    {
     "name": "stdout",
     "output_type": "stream",
     "text": [
      "[('Twitter', 'X'), ('is', 'VERB'), ('an', 'DET'), ('online', 'X'), ('news', 'NOUN'), ('and', 'CONJ'), ('social', 'ADJ'), ('networking', 'NOUN'), ('service', 'NOUN'), ('on', 'ADP'), ('which', 'DET'), ('users', 'NOUN'), ('post', 'NOUN'), ('and', 'CONJ'), ('interact', 'X'), ('with', 'ADP'), ('messages', 'X'), ('known', 'VERB'), ('as', 'ADP'), ('tweets', 'X'), ('.', '.')]\n"
     ]
    }
   ],
   "source": [
    "sentence_test_3='Twitter is an online news and social networking service on which users post and interact with messages known as tweets.'\n",
    "words = word_tokenize(sentence_test_3)\n",
    "tagged_seq = Viterbi(words)\n",
    "print(tagged_seq)"
   ]
  },
  {
   "cell_type": "code",
   "execution_count": 45,
   "metadata": {},
   "outputs": [
    {
     "name": "stdout",
     "output_type": "stream",
     "text": [
      "[('Twitter', 'NOUN'), ('is', 'VERB'), ('an', 'DET'), ('online', 'NOUN'), ('news', 'NOUN'), ('and', 'CONJ'), ('social', 'ADJ'), ('networking', 'NOUN'), ('service', 'NOUN'), ('on', 'ADP'), ('which', 'DET'), ('users', 'NOUN'), ('post', 'NOUN'), ('and', 'CONJ'), ('interact', 'NOUN'), ('with', 'ADP'), ('messages', 'VERB'), ('known', 'VERB'), ('as', 'ADP'), ('tweets', 'NOUN'), ('.', '.')]\n"
     ]
    }
   ],
   "source": [
    "#With Technique 1\n",
    "tagged_seq_updated = Viterbi_updated(words)\n",
    "print(tagged_seq_updated)"
   ]
  },
  {
   "cell_type": "code",
   "execution_count": 46,
   "metadata": {},
   "outputs": [
    {
     "name": "stdout",
     "output_type": "stream",
     "text": [
      "[('Twitter', 'NOUN'), ('is', 'VERB'), ('an', 'DET'), ('online', 'NOUN'), ('news', 'NOUN'), ('and', 'CONJ'), ('social', 'ADJ'), ('networking', 'NOUN'), ('service', 'NOUN'), ('on', 'ADP'), ('which', 'DET'), ('users', 'NOUN'), ('post', 'NOUN'), ('and', 'CONJ'), ('interact', 'NOUN'), ('with', 'ADP'), ('messages', 'NOUN'), ('known', 'VERB'), ('as', 'ADP'), ('tweets', 'NOUN'), ('.', '.')]\n"
     ]
    }
   ],
   "source": [
    "#With Technique 2\n",
    "tagged_seq_updated = Viterbi_updated1_modified(words)\n",
    "print(tagged_seq_updated)"
   ]
  },
  {
   "cell_type": "markdown",
   "metadata": {},
   "source": [
    "### Conclusion:- \n",
    "\n",
    "    - With Rule based techinque the accuracy is \n",
    "    - With Probability based technique the accuracy is\n",
    "    - With both the techniques the unknown words like `twitter`, `OS`, `google` etc. are tagged with `NOUN` \n",
    "      from `X`."
   ]
  }
 ],
 "metadata": {
  "kernelspec": {
   "display_name": "Python 3",
   "language": "python",
   "name": "python3"
  },
  "language_info": {
   "codemirror_mode": {
    "name": "ipython",
    "version": 3
   },
   "file_extension": ".py",
   "mimetype": "text/x-python",
   "name": "python",
   "nbconvert_exporter": "python",
   "pygments_lexer": "ipython3",
   "version": "3.7.4"
  }
 },
 "nbformat": 4,
 "nbformat_minor": 2
}
